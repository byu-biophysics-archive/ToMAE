{
 "cells": [
  {
   "cell_type": "code",
   "execution_count": 6,
   "metadata": {},
   "outputs": [],
   "source": [
    "# import numpy as np\n",
    "import mrcfile\n",
    "from utils import crop_and_split_array"
   ]
  },
  {
   "cell_type": "code",
   "execution_count": 8,
   "metadata": {},
   "outputs": [
    {
     "name": "stdout",
     "output_type": "stream",
     "text": [
      "Saved all chunks as .npy files in ../../images/3d_tiles/\n"
     ]
    }
   ],
   "source": [
    "data = mrcfile.read('./20120923_Hylemonella_10003_full.rec')\n",
    "cube_size = (64, 64, 64)\n",
    "crop_and_split_array(data, cube_size, tile_path='../../images/3d_tiles/')\n"
   ]
  },
  {
   "cell_type": "code",
   "execution_count": 8,
   "metadata": {},
   "outputs": [],
   "source": [
    "import gc\n",
    "del data,chunks"
   ]
  },
  {
   "cell_type": "code",
   "execution_count": 12,
   "metadata": {},
   "outputs": [],
   "source": [
    "import os\n",
    "import ast\n",
    "def recombine_chunks(og_rec_file,chunk_folder):\n",
    "    \"\"\"\n",
    "    The following function reads in  orignal rec file to create an empty 3D array \n",
    "    then it reads in each of the chunk files and places them in the correct location\n",
    "    based on the d,w,h coordinates in the file name. \n",
    "    \"\"\"\n",
    "    # Read in the original rec file to get the shape\n",
    "    with mrcfile.open(og_rec_file) as mrc:\n",
    "        # Use crop_3d to get the shape of the cropped array\n",
    "        shape = crop_3d(mrc.data, (64, 64, 64)).shape\n",
    "\n",
    "    # Create an empty 3D array\n",
    "    recombined = np.zeros(shape)\n",
    "    # Get a list of all the chunk files\n",
    "    chunk_files = [f for f in os.listdir(chunk_folder) if f.endswith('.npy')]\n",
    "\n",
    "    # Iterate through each file and place it in the correct location\n",
    "    for file in chunk_files:\n",
    "        # Get the x,y,z coordinates from the file name\n",
    "        d,w,h = ast.literal_eval(file.split('_')[2].split('.npy')[0])\n",
    "        d,w,h = int(d),int(w),int(h)\n",
    "        # Load the chunk file\n",
    "        chunk = np.load(f'{chunk_folder}{file}')\n",
    "        # Place the chunk in the correct location\n",
    "        cs= chunk.shape\n",
    "        recombined[d*cs[0]:(d+1)*cs[0],w*cs[1]:(w+1)*cs[1],h*cs[2]:(h+1)*cs[2]] = chunk\n",
    "    return recombined\n",
    "file_path = './20120923_Hylemonella_10003_full.rec'\n",
    "new_rec = recombine_chunks(file_path,'../../images/3d_tiles/')\n",
    "np.save(f'{file_path[:-4]}_RECOMBINED',new_rec)\n",
    "# recombine_chunks('./20120923_Hylemonella_10003_full.rec','../../images/3d_tiles/')\n"
   ]
  },
  {
   "cell_type": "markdown",
   "metadata": {},
   "source": [
    "### Experiment with 3D plots"
   ]
  },
  {
   "cell_type": "code",
   "execution_count": null,
   "metadata": {},
   "outputs": [],
   "source": [
    "def normalize_image(image):\n",
    "    return cv2.equalizeHist(np.uint8(image))"
   ]
  },
  {
   "cell_type": "code",
   "execution_count": null,
   "metadata": {},
   "outputs": [],
   "source": [
    "# Import data\n",
    "import time\n",
    "import numpy as np\n",
    "import mrcfile\n",
    "from skimage import io\n",
    "import cv2\n",
    "\n",
    "# vol = io.imread(\"https://s3.amazonaws.com/assets.datacamp.com/blog_assets/attention-mri.tif\")\n",
    "file_name = '20120923_Hylemonella_10003_full.rec'\n",
    "vol = mrcfile.read(file_name)\n",
    "vol = np.apply_along_axis(normalize_image, axis=0, arr=vol).squeeze(axis=1) \n",
    "print(type(vol))\n",
    "volume = vol.T\n",
    "r, c = volume[0].shape\n",
    "\n",
    "print('volume shape: ',volume.shape)\n",
    "# Define frames\n",
    "import plotly.graph_objects as go\n",
    "nb_frames = 300\n",
    "\n",
    "fig = go.Figure(frames=[go.Frame(data=go.Surface(\n",
    "    z=(6.7 - k * 0.1) * np.ones((r, c)),\n",
    "    surfacecolor=np.flipud(volume[nb_frames - 1 - k]),\n",
    "    cmin=0, cmax=200\n",
    "    ),\n",
    "    name=str(k) # you need to name the frame for the animation to behave properly\n",
    "    )\n",
    "    for k in range(nb_frames)])\n",
    "\n",
    "# Add data to be displayed before animation starts\n",
    "fig.add_trace(go.Surface(\n",
    "    z=6.7 * np.ones((r, c)),\n",
    "    surfacecolor=np.flipud(volume[299]),\n",
    "    colorscale='Gray',\n",
    "    cmin=0, cmax=200,\n",
    "    colorbar=dict(thickness=20, ticklen=4)\n",
    "    ))\n",
    "\n",
    "\n",
    "def frame_args(duration):\n",
    "    return {\n",
    "            \"frame\": {\"duration\": duration},\n",
    "            \"mode\": \"immediate\",\n",
    "            \"fromcurrent\": True,\n",
    "            \"transition\": {\"duration\": duration, \"easing\": \"linear\"},\n",
    "        }\n",
    "\n",
    "sliders = [\n",
    "            {\n",
    "                \"pad\": {\"b\": 10, \"t\": 60},\n",
    "                \"len\": 0.9,\n",
    "                \"x\": 0.1,\n",
    "                \"y\": 0,\n",
    "                \"steps\": [\n",
    "                    {\n",
    "                        \"args\": [[f.name], frame_args(0)],\n",
    "                        \"label\": str(k),\n",
    "                        \"method\": \"animate\",\n",
    "                    }\n",
    "                    for k, f in enumerate(fig.frames)\n",
    "                ],\n",
    "            }\n",
    "        ]\n",
    "\n",
    "# Layout\n",
    "fig.update_layout(\n",
    "         title='Slices in volumetric data',\n",
    "         width=600,\n",
    "         height=600,\n",
    "         scene=dict(\n",
    "                    zaxis=dict(range=[-0.1, 6.8], autorange=False),\n",
    "                    aspectratio=dict(x=1, y=1, z=1),\n",
    "                    ),\n",
    "         updatemenus = [\n",
    "            {\n",
    "                \"buttons\": [\n",
    "                    {\n",
    "                        \"args\": [None, frame_args(50)],\n",
    "                        \"label\": \"&#9654;\", # play symbol\n",
    "                        \"method\": \"animate\",\n",
    "                    },\n",
    "                    {\n",
    "                        \"args\": [[None], frame_args(0)],\n",
    "                        \"label\": \"&#9724;\", # pause symbol\n",
    "                        \"method\": \"animate\",\n",
    "                    },\n",
    "                ],\n",
    "                \"direction\": \"left\",\n",
    "                \"pad\": {\"r\": 10, \"t\": 70},\n",
    "                \"type\": \"buttons\",\n",
    "                \"x\": 0.1,\n",
    "                \"y\": 0,\n",
    "            }\n",
    "         ],\n",
    "         sliders=sliders\n",
    ")\n",
    "\n",
    "fig.show()"
   ]
  },
  {
   "cell_type": "code",
   "execution_count": null,
   "metadata": {},
   "outputs": [],
   "source": []
  },
  {
   "cell_type": "markdown",
   "metadata": {},
   "source": [
    "I probably want to think about saving each of these tiles/cubes into .npy files and save them with their coordinates in their name and the og file they came from.\n",
    "One of the next steps I want to take is to use the plotly 3D (MRI) grapher to plot both the orignal 3D file and then on of the cubed versions too."
   ]
  }
 ],
 "metadata": {
  "kernelspec": {
   "display_name": "imod",
   "language": "python",
   "name": "python3"
  },
  "language_info": {
   "codemirror_mode": {
    "name": "ipython",
    "version": 3
   },
   "file_extension": ".py",
   "mimetype": "text/x-python",
   "name": "python",
   "nbconvert_exporter": "python",
   "pygments_lexer": "ipython3",
   "version": "3.9.7"
  }
 },
 "nbformat": 4,
 "nbformat_minor": 2
}
