{
 "cells": [
  {
   "cell_type": "markdown",
   "metadata": {},
   "source": [
    "The code below selects 16 128x128 tiles for each image and mask based on the maximum number of tissue pixels. The kernel also provides computed image stats. Please check my kernels to see how to use this data. \n",
    "![](https://i.ibb.co/RzSWP56/convert.png)"
   ]
  },
  {
   "cell_type": "code",
   "execution_count": 15,
   "metadata": {
    "_cell_guid": "b1076dfc-b9ad-4769-8c92-a6c4dae69d19",
    "_uuid": "8f2839f25d086af736a60e9eeb907d3b93b6e0e5"
   },
   "outputs": [],
   "source": [
    "import os\n",
    "import cv2\n",
    "import skimage.io\n",
    "from tqdm import tqdm, tqdm_notebook\n",
    "import zipfile\n",
    "import numpy as np\n",
    "from matplotlib import pyplot as plt\n",
    "import matplotlib.image as mpimg\n",
    "from PIL import Image,ImageFile\n",
    "ImageFile.LOAD_TRUNCATED_IMAGES = True\n",
    "#Image.MAX_IMAGE_PIXELS=2000000000"
   ]
  },
  {
   "cell_type": "code",
   "execution_count": 2,
   "metadata": {},
   "outputs": [],
   "source": [
    "LOCAL_DIR = './images/'\n",
    "TRAIN = LOCAL_DIR + 'pre_tile_images/'\n",
    "# MASKS = LOCAL_DIR + 'radboud_masks/'\n",
    "\n",
    "OUT_DIR = './tiled_images/'\n",
    "OUT_IMAGE_TRAIN = OUT_DIR + 'image_train.zip'\n",
    "# OUT_IMAGE_VALIDATION = OUT_DIR + 'image_validation.zip'\n",
    "# OUT_MASK_TRAIN = OUT_DIR + 'mask_train.zip'\n",
    "# OUT_MASK_VALIDATION = OUT_DIR + 'mask_validation.zip'\n",
    "\n",
    "SZ = 512\n"
   ]
  },
  {
   "cell_type": "markdown",
   "metadata": {},
   "source": [
    "## Create Image Tiles"
   ]
  },
  {
   "cell_type": "code",
   "execution_count": 21,
   "metadata": {},
   "outputs": [],
   "source": [
    "def tile(img):\n",
    "    \"\"\"\n",
    "    This function creates tiles of the image and its corresponding mask. This function \n",
    "    returns a list with a dictionary for each tile.\n",
    "    The tiles are returned in a dictionary. The image is given an index \n",
    "    which orders tiles from the tiles with the least white space to the tiles \n",
    "    with the most white space. It also gives the tile a location which corresponds \n",
    "    to the location of the tile in the image before it was tiled.\n",
    "    \n",
    "    parameters:\n",
    "    -----------\n",
    "    img: image to tile\n",
    "    mask: corresponding mask\n",
    "    \n",
    "    returns:\n",
    "    result (list of dicts): This is a list of dictionaries corresponding to each tile\n",
    "        img: the tile\n",
    "        mask: the corresponding mask tile\n",
    "        idx (int): The tiles are ordered according to how much white space they have. Tiles \n",
    "        with less white space have a smaller index\n",
    "        location ([int,int]): this is a list of two integers corresponding to the original \n",
    "        location of the tile in the image\n",
    "    \"\"\"\n",
    "\n",
    "    #Get initial variables\n",
    "    result = []\n",
    "    shape = img.shape\n",
    "\n",
    "    # Find the values to pad h and w with so the dimensions are multiples\n",
    "    # of SZ\n",
    "    pad0,pad1 = (SZ - shape[0]%SZ)%SZ, (SZ - shape[1]%SZ)%SZ\n",
    "\n",
    "    # The images and masks with chosen constants\n",
    "    img = np.pad(img,[[pad0//2,pad0-pad0//2],[pad1//2,pad1-pad1//2],[0,0]],\n",
    "                constant_values=255)\n",
    "    # mask = np.pad(mask,[[pad0//2,pad0-pad0//2],[pad1//2,pad1-pad1//2],[0,0]],\n",
    "    #             constant_values=0)\n",
    "\n",
    "    # Reshape images to a x SZ x b x SZ x 3 (a and b depend on the original size of image)\n",
    "    print(\"after padding, and before img.reshape\",img.shape)\n",
    "    img = img.reshape(img.shape[0]//SZ,SZ,img.shape[1]//SZ,SZ,3)\n",
    "    n_tiles_height = img.shape[0]\n",
    "    n_tiles_width = img.shape[2]\n",
    "    \n",
    "    #swap order of dimensions\n",
    "    print(\"after img.reshape, and before img.transpose\",img.shape)\n",
    "    img = img.transpose(0,2,1,3,4).reshape(-1,SZ,SZ,3)\n",
    "    print(\"after img.transpose\",img.shape)\n",
    "\n",
    "    #same process for masks\n",
    "    # mask = mask.reshape(mask.shape[0]//SZ,SZ,mask.shape[1]//SZ,SZ,3)\n",
    "    # mask = mask.transpose(0,2,1,3,4).reshape(-1,SZ,SZ,3)\n",
    "\n",
    "    \n",
    "    # reshape image and sum along last dimension\n",
    "    #then order those values in ascending order and return\n",
    "    #the index of the images that are not all white\n",
    "    idxs = np.argsort(img.reshape(img.shape[0],-1).sum(-1))\n",
    "    sums = img.reshape(img.shape[0],-1).sum(-1)\n",
    "\n",
    "    # Only keep images that are not all white\n",
    "    idxs_to_keep = [i for i in range(len(sums)) if sums[i] < 200540160]\n",
    "    sums_to_keep = [s for s in sums if s < 200540160]\n",
    "    idxs_to_keep = [i for _,i in sorted(zip(sums_to_keep, idxs_to_keep))]\n",
    "    img = img[idxs_to_keep]\n",
    "    # mask = mask[idxs_to_keep]\n",
    "    \n",
    "    # Get tile locations in original image\n",
    "    locations = [[int(np.floor(i/n_tiles_width)),i%n_tiles_width] for i in idxs_to_keep]\n",
    "    \n",
    "    # Add dictionary to list \n",
    "    for i in range(len(img)):\n",
    "        result.append({'img':img[i], 'idx':i, 'location':locations[i]})\n",
    "        \n",
    "    return result"
   ]
  },
  {
   "cell_type": "code",
   "execution_count": 22,
   "metadata": {
    "_cell_guid": "79c7e3d0-c299-4dcb-8224-4455121ee9b0",
    "_uuid": "d629ff2d2480ee46fbb7e2d37f6b5fab8052498a"
   },
   "outputs": [
    {
     "name": "stdout",
     "output_type": "stream",
     "text": [
      "./images/pre_tile_images/1003.tiff\n",
      "after padding, and before img.reshape (33280, 24576, 3)\n",
      "after img.reshape, and before img.transpose (65, 512, 48, 512, 3)\n",
      "after img.transpose (3120, 512, 512, 3)\n"
     ]
    }
   ],
   "source": [
    "# Set initial variables\n",
    "x_tot,x2_tot = [],[]\n",
    "name = '1003'\n",
    "\n",
    "print(os.path.join(TRAIN,name+'.tiff'))\n",
    "img = skimage.io.MultiImage(os.path.join(TRAIN,name+'.tiff'))[-1]\n",
    "# mask = skimage.io.MultiImage(os.path.join(MASKS,name+'_mask.tiff'))[-1]\n",
    "\n",
    "#Get tiles for images\n",
    "tiles = tile(img)\n",
    "# for t in tiles:\n",
    "#     img,idx, location = t['img'],t['idx'],t['location']\n",
    "#     x_tot.append((img/255.0).reshape(-1,3).mean(0))\n",
    "#     x2_tot.append(((img/255.0)**2).reshape(-1,3).mean(0)) \n",
    "    \n",
    "#     #if read with PIL RGB turns into BGR\n",
    "#     #Convert images and masks to png images\n",
    "#     img = cv2.imencode('.png',cv2.cvtColor(img, cv2.COLOR_RGB2BGR))[1]\n",
    "#     print(type(img))\n",
    "    # np.save(f'{name}_{idx}_{location[0]}_{location[1]}', img)"
   ]
  },
  {
   "cell_type": "markdown",
   "metadata": {},
   "source": [
    "## Reconstruct specific image after tiling"
   ]
  },
  {
   "cell_type": "code",
   "execution_count": 18,
   "metadata": {},
   "outputs": [
    {
     "ename": "FileNotFoundError",
     "evalue": "[Errno 2] No such file or directory: './2d_images/'",
     "output_type": "error",
     "traceback": [
      "\u001b[0;31m---------------------------------------------------------------------------\u001b[0m",
      "\u001b[0;31mFileNotFoundError\u001b[0m                         Traceback (most recent call last)",
      "\u001b[0;32m/var/folders/3m/nqbsm6c175q8q36xtwz4_h6w0000gn/T/ipykernel_24301/1479988931.py\u001b[0m in \u001b[0;36m<module>\u001b[0;34m\u001b[0m\n\u001b[1;32m     10\u001b[0m \u001b[0;34m\u001b[0m\u001b[0m\n\u001b[1;32m     11\u001b[0m \u001b[0;31m# Get all tiles for image\u001b[0m\u001b[0;34m\u001b[0m\u001b[0;34m\u001b[0m\u001b[0m\n\u001b[0;32m---> 12\u001b[0;31m \u001b[0mnames\u001b[0m \u001b[0;34m=\u001b[0m \u001b[0;34m[\u001b[0m\u001b[0mname\u001b[0m \u001b[0;32mfor\u001b[0m \u001b[0mname\u001b[0m \u001b[0;32min\u001b[0m \u001b[0mos\u001b[0m\u001b[0;34m.\u001b[0m\u001b[0mlistdir\u001b[0m\u001b[0;34m(\u001b[0m\u001b[0mTILE_DIR\u001b[0m\u001b[0;34m)\u001b[0m \u001b[0;32mif\u001b[0m \u001b[0mname\u001b[0m\u001b[0;34m.\u001b[0m\u001b[0mstartswith\u001b[0m\u001b[0;34m(\u001b[0m\u001b[0mcurrent_image\u001b[0m\u001b[0;34m)\u001b[0m\u001b[0;34m]\u001b[0m\u001b[0;34m\u001b[0m\u001b[0;34m\u001b[0m\u001b[0m\n\u001b[0m\u001b[1;32m     13\u001b[0m \u001b[0;34m\u001b[0m\u001b[0m\n\u001b[1;32m     14\u001b[0m \u001b[0;31m#Reconstruct the image from tiles\u001b[0m\u001b[0;34m\u001b[0m\u001b[0;34m\u001b[0m\u001b[0m\n",
      "\u001b[0;31mFileNotFoundError\u001b[0m: [Errno 2] No such file or directory: './2d_images/'"
     ]
    }
   ],
   "source": [
    "#Pick a specific image\n",
    "TILE_DIR = './2d_images/'\n",
    "IMG_DIR = '/Users/tjhart/Documents/Research/msg/Napari/images/pre_tile_images/'\n",
    "\n",
    "# Open original tiff image\n",
    "current_image = '2274'\n",
    "# whole_image = mpimg.imread('/Users/tjhart/Documents/Research/msg/Napari/images/pre_tile_images/1003.tiff')\n",
    "# whole_image = mpimg.imread(IMG_DIR + current_image + '.tiff')\n",
    "whole_image = Image.open('./images/pre_tile_images/zentangle_Original.JPG')\n",
    "\n",
    "# Get all tiles for image\n",
    "names = [name for name in os.listdir(TILE_DIR) if name.startswith(current_image)]\n",
    "\n",
    "#Reconstruct the image from tiles \n",
    "n_tiles_height = int(np.ceil(whole_image.shape[0]/512))\n",
    "n_tiles_width = int(np.ceil(whole_image.shape[1]/512))\n",
    "plt.figure(figsize = (n_tiles_width*2,n_tiles_height*2))\n",
    "for name in names:\n",
    "    plt.subplot(n_tiles_height,n_tiles_width,n_tiles_width*int(name.split('_')[-2]) + int(name.split('_')[-1].split('.')[0])+1)\n",
    "    img = mpimg.imread(TILE_DIR + name)\n",
    "    plt.imshow(img)\n",
    "plt.show()"
   ]
  },
  {
   "cell_type": "markdown",
   "metadata": {},
   "source": [
    "## Move test images to test file"
   ]
  },
  {
   "cell_type": "code",
   "execution_count": 3,
   "metadata": {},
   "outputs": [
    {
     "name": "stderr",
     "output_type": "stream",
     "text": [
      "0it [00:00, ?it/s]\n",
      "0it [00:00, ?it/s]\n"
     ]
    }
   ],
   "source": [
    "import shutil\n",
    "\n",
    "VAL_IMAGES = '/media/tjhart/M.2 Vol 2/image_validation/'\n",
    "VAL_MASKS = '/media/tjhart/M.2 Vol 2/mask_validation/'\n",
    "TEST_IMAGES = '/media/tjhart/M.2 Vol 2/image_test/'\n",
    "TEST_MASKS = '/media/tjhart/M.2 Vol 2/mask_test/'\n",
    "\n",
    "# Move test files to test folders\n",
    "with open('../data/test.txt', 'r') as f:\n",
    "    lines = f.read().splitlines()\n",
    "    images = [name for name in os.listdir(VAL_IMAGES)]\n",
    "    images = [name for name in images if name.startswith(tuple(lines))]\n",
    "\n",
    "    masks = [name for name in os.listdir(VAL_MASKS)]\n",
    "    masks = [name for name in masks if name.startswith(tuple(lines))]\n",
    "\n",
    "    # Move images\n",
    "    for file in tqdm(images):\n",
    "        shutil.move(VAL_IMAGES + file, TEST_IMAGES + file)\n",
    "\n",
    "    # Move masks\n",
    "    for file in tqdm(masks):\n",
    "        shutil.move(VAL_MASKS + file, TEST_MASKS + file)\n"
   ]
  },
  {
   "cell_type": "code",
   "execution_count": null,
   "metadata": {},
   "outputs": [],
   "source": []
  }
 ],
 "metadata": {
  "kernelspec": {
   "display_name": "Python 3.9.12 ('dtronv2')",
   "language": "python",
   "name": "python3"
  },
  "language_info": {
   "codemirror_mode": {
    "name": "ipython",
    "version": 3
   },
   "file_extension": ".py",
   "mimetype": "text/x-python",
   "name": "python",
   "nbconvert_exporter": "python",
   "pygments_lexer": "ipython3",
   "version": "3.9.7"
  },
  "vscode": {
   "interpreter": {
    "hash": "2b4e1b3a7d3292c4e9671630e12027235a464196dde7ede68da7d8fdc02bac61"
   }
  },
  "widgets": {
   "application/vnd.jupyter.widget-state+json": {
    "state": {
     "0fbc93ab8bf246a788673aa2dd7f3af0": {
      "model_module": "@jupyter-widgets/base",
      "model_module_version": "1.2.0",
      "model_name": "LayoutModel",
      "state": {
       "_model_module": "@jupyter-widgets/base",
       "_model_module_version": "1.2.0",
       "_model_name": "LayoutModel",
       "_view_count": null,
       "_view_module": "@jupyter-widgets/base",
       "_view_module_version": "1.2.0",
       "_view_name": "LayoutView",
       "align_content": null,
       "align_items": null,
       "align_self": null,
       "border": null,
       "bottom": null,
       "display": null,
       "flex": null,
       "flex_flow": null,
       "grid_area": null,
       "grid_auto_columns": null,
       "grid_auto_flow": null,
       "grid_auto_rows": null,
       "grid_column": null,
       "grid_gap": null,
       "grid_row": null,
       "grid_template_areas": null,
       "grid_template_columns": null,
       "grid_template_rows": null,
       "height": null,
       "justify_content": null,
       "justify_items": null,
       "left": null,
       "margin": null,
       "max_height": null,
       "max_width": null,
       "min_height": null,
       "min_width": null,
       "object_fit": null,
       "object_position": null,
       "order": null,
       "overflow": null,
       "overflow_x": null,
       "overflow_y": null,
       "padding": null,
       "right": null,
       "top": null,
       "visibility": null,
       "width": null
      }
     },
     "19371108e2414bd3a67d719f35e87f05": {
      "model_module": "@jupyter-widgets/controls",
      "model_module_version": "1.5.0",
      "model_name": "DescriptionStyleModel",
      "state": {
       "_model_module": "@jupyter-widgets/controls",
       "_model_module_version": "1.5.0",
       "_model_name": "DescriptionStyleModel",
       "_view_count": null,
       "_view_module": "@jupyter-widgets/base",
       "_view_module_version": "1.2.0",
       "_view_name": "StyleView",
       "description_width": ""
      }
     },
     "48008054b5334c3dbca0a6958d6dde05": {
      "model_module": "@jupyter-widgets/controls",
      "model_module_version": "1.5.0",
      "model_name": "HTMLModel",
      "state": {
       "_dom_classes": [],
       "_model_module": "@jupyter-widgets/controls",
       "_model_module_version": "1.5.0",
       "_model_name": "HTMLModel",
       "_view_count": null,
       "_view_module": "@jupyter-widgets/controls",
       "_view_module_version": "1.5.0",
       "_view_name": "HTMLView",
       "description": "",
       "description_tooltip": null,
       "layout": "IPY_MODEL_8522012ff48b4a2aa507296fbb7544b4",
       "placeholder": "​",
       "style": "IPY_MODEL_19371108e2414bd3a67d719f35e87f05",
       "value": " 10516/10516 [14:41&lt;00:00, 11.92it/s]"
      }
     },
     "5872a44898c34147825c7c3c009fcc3d": {
      "model_module": "@jupyter-widgets/controls",
      "model_module_version": "1.5.0",
      "model_name": "FloatProgressModel",
      "state": {
       "_dom_classes": [],
       "_model_module": "@jupyter-widgets/controls",
       "_model_module_version": "1.5.0",
       "_model_name": "FloatProgressModel",
       "_view_count": null,
       "_view_module": "@jupyter-widgets/controls",
       "_view_module_version": "1.5.0",
       "_view_name": "ProgressView",
       "bar_style": "success",
       "description": "100%",
       "description_tooltip": null,
       "layout": "IPY_MODEL_adf37f59f7764fa1981a70e8630889c4",
       "max": 10516,
       "min": 0,
       "orientation": "horizontal",
       "style": "IPY_MODEL_79861faae9e549dc8a5be8393e612125",
       "value": 10516
      }
     },
     "79861faae9e549dc8a5be8393e612125": {
      "model_module": "@jupyter-widgets/controls",
      "model_module_version": "1.5.0",
      "model_name": "ProgressStyleModel",
      "state": {
       "_model_module": "@jupyter-widgets/controls",
       "_model_module_version": "1.5.0",
       "_model_name": "ProgressStyleModel",
       "_view_count": null,
       "_view_module": "@jupyter-widgets/base",
       "_view_module_version": "1.2.0",
       "_view_name": "StyleView",
       "bar_color": null,
       "description_width": "initial"
      }
     },
     "8522012ff48b4a2aa507296fbb7544b4": {
      "model_module": "@jupyter-widgets/base",
      "model_module_version": "1.2.0",
      "model_name": "LayoutModel",
      "state": {
       "_model_module": "@jupyter-widgets/base",
       "_model_module_version": "1.2.0",
       "_model_name": "LayoutModel",
       "_view_count": null,
       "_view_module": "@jupyter-widgets/base",
       "_view_module_version": "1.2.0",
       "_view_name": "LayoutView",
       "align_content": null,
       "align_items": null,
       "align_self": null,
       "border": null,
       "bottom": null,
       "display": null,
       "flex": null,
       "flex_flow": null,
       "grid_area": null,
       "grid_auto_columns": null,
       "grid_auto_flow": null,
       "grid_auto_rows": null,
       "grid_column": null,
       "grid_gap": null,
       "grid_row": null,
       "grid_template_areas": null,
       "grid_template_columns": null,
       "grid_template_rows": null,
       "height": null,
       "justify_content": null,
       "justify_items": null,
       "left": null,
       "margin": null,
       "max_height": null,
       "max_width": null,
       "min_height": null,
       "min_width": null,
       "object_fit": null,
       "object_position": null,
       "order": null,
       "overflow": null,
       "overflow_x": null,
       "overflow_y": null,
       "padding": null,
       "right": null,
       "top": null,
       "visibility": null,
       "width": null
      }
     },
     "8ccae830ce2845ba964d77ff96182269": {
      "model_module": "@jupyter-widgets/controls",
      "model_module_version": "1.5.0",
      "model_name": "HBoxModel",
      "state": {
       "_dom_classes": [],
       "_model_module": "@jupyter-widgets/controls",
       "_model_module_version": "1.5.0",
       "_model_name": "HBoxModel",
       "_view_count": null,
       "_view_module": "@jupyter-widgets/controls",
       "_view_module_version": "1.5.0",
       "_view_name": "HBoxView",
       "box_style": "",
       "children": [
        "IPY_MODEL_5872a44898c34147825c7c3c009fcc3d",
        "IPY_MODEL_48008054b5334c3dbca0a6958d6dde05"
       ],
       "layout": "IPY_MODEL_0fbc93ab8bf246a788673aa2dd7f3af0"
      }
     },
     "adf37f59f7764fa1981a70e8630889c4": {
      "model_module": "@jupyter-widgets/base",
      "model_module_version": "1.2.0",
      "model_name": "LayoutModel",
      "state": {
       "_model_module": "@jupyter-widgets/base",
       "_model_module_version": "1.2.0",
       "_model_name": "LayoutModel",
       "_view_count": null,
       "_view_module": "@jupyter-widgets/base",
       "_view_module_version": "1.2.0",
       "_view_name": "LayoutView",
       "align_content": null,
       "align_items": null,
       "align_self": null,
       "border": null,
       "bottom": null,
       "display": null,
       "flex": null,
       "flex_flow": null,
       "grid_area": null,
       "grid_auto_columns": null,
       "grid_auto_flow": null,
       "grid_auto_rows": null,
       "grid_column": null,
       "grid_gap": null,
       "grid_row": null,
       "grid_template_areas": null,
       "grid_template_columns": null,
       "grid_template_rows": null,
       "height": null,
       "justify_content": null,
       "justify_items": null,
       "left": null,
       "margin": null,
       "max_height": null,
       "max_width": null,
       "min_height": null,
       "min_width": null,
       "object_fit": null,
       "object_position": null,
       "order": null,
       "overflow": null,
       "overflow_x": null,
       "overflow_y": null,
       "padding": null,
       "right": null,
       "top": null,
       "visibility": null,
       "width": null
      }
     }
    },
    "version_major": 2,
    "version_minor": 0
   }
  }
 },
 "nbformat": 4,
 "nbformat_minor": 4
}
